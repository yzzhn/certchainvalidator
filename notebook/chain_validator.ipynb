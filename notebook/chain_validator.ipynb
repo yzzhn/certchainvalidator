{
 "cells": [
  {
   "cell_type": "code",
   "execution_count": 1,
   "id": "f89fca6c-026f-4f5a-a323-29cb11c4f6ea",
   "metadata": {},
   "outputs": [],
   "source": [
    "import pandas as pd\n",
    "import glob\n",
    "import os\n",
    "import sys\n",
    "import re\n",
    "from collections import defaultdict\n",
    "import ipaddress\n",
    "import pickle\n",
    "import json\n",
    "from IPython.display import clear_output\n"
   ]
  },
  {
   "cell_type": "code",
   "execution_count": 2,
   "id": "5e66766a-6e18-4258-80bd-95e4072058db",
   "metadata": {
    "tags": []
   },
   "outputs": [],
   "source": [
    "sys.path.append(\"../src\")\n",
    "from cert import Cert, Chain\n",
    "from truststore import *\n",
    "from validator import ChainValidator, CertValidator\n",
    "from utils import *"
   ]
  },
  {
   "cell_type": "markdown",
   "id": "02c12b8f-ec3b-46d5-9211-2d949eacb3fe",
   "metadata": {},
   "source": [
    "### Config Directories"
   ]
  },
  {
   "cell_type": "code",
   "execution_count": 14,
   "id": "d6093e13-8673-4e74-a0bd-2daece3de95a",
   "metadata": {},
   "outputs": [],
   "source": [
    "hybrid_datadir = \"../data/hybrid_chain/\"\n",
    "nonpub_datadir = \"../data/nonpub_chain/\""
   ]
  },
  {
   "cell_type": "markdown",
   "id": "a0b5f892-627e-47b1-aa80-985a1bb08418",
   "metadata": {},
   "source": [
    "### Read TrustStores\n",
    "Read truststores from dir:\"truststores\""
   ]
  },
  {
   "cell_type": "code",
   "execution_count": 5,
   "id": "1711f456-c939-474d-8cbb-9c202560c3c1",
   "metadata": {
    "tags": []
   },
   "outputs": [],
   "source": [
    "config = {\n",
    "        \"ccadb\": \"truststores/ccadb.txt\",\n",
    "        \"truststore\": \"truststores/truststores.txt\",\n",
    "        \"whitelist\": \"truststores/whitelist.txt\",\n",
    "        \"interception\": \"truststores/interception.txt\",\n",
    "        \"cross-sign-g1\": \"truststores/cross-signing_g1.txt\",\n",
    "        \"cross-sign-g2\": \"truststores/cross-signing_g2.txt\",\n",
    "    }\n",
    "\n",
    "CertStoresDict = {\n",
    "    \"ccadb\": load_set(config[\"ccadb\"]),\n",
    "    \"whitelist\": load_set(config[\"whitelist\"]),\n",
    "    \"truststore\": load_set(config[\"truststore\"]),\n",
    "    \"interception\": load_set(config[\"interception\"]),\n",
    "    \"peerCrossSigned\": load_set(config[\"interception\"]),\n",
    "    \"strictCrossSigned\": load_set(config[\"interception\"])\n",
    "}\n"
   ]
  },
  {
   "cell_type": "code",
   "execution_count": 6,
   "id": "01b46a4f-7524-4604-bb2e-492e28f4a2ca",
   "metadata": {
    "tags": []
   },
   "outputs": [],
   "source": [
    "myTrustStore = TrustStores(CertStoresDict)"
   ]
  },
  {
   "cell_type": "markdown",
   "id": "ecb30aaf-b341-4c0d-9be2-2606947d9a6d",
   "metadata": {
    "tags": []
   },
   "source": [
    "### Init Validator"
   ]
  },
  {
   "cell_type": "code",
   "execution_count": 34,
   "id": "fefa1426-4e7f-46e2-a770-e17194e80200",
   "metadata": {},
   "outputs": [],
   "source": [
    "myCertValidator = CertValidator(myTrustStore)\n",
    "myChainValidator = ChainValidator(myCertValidator)"
   ]
  },
  {
   "cell_type": "markdown",
   "id": "98ae4f64-b826-487d-b2aa-c8a3e1c00028",
   "metadata": {},
   "source": [
    "## Analyze Hybrid Chain"
   ]
  },
  {
   "cell_type": "code",
   "execution_count": 15,
   "id": "e4217bb2-5835-4537-a61b-d08eb5a7e88d",
   "metadata": {},
   "outputs": [
    {
     "name": "stdout",
     "output_type": "stream",
     "text": [
      "270\n"
     ]
    }
   ],
   "source": [
    "hybrid_fl = glob.glob((hybrid_datadir+ \"csv/*.csv\"))\n",
    "print(len(hybrid_fl))"
   ]
  },
  {
   "cell_type": "code",
   "execution_count": 31,
   "id": "715f4eef-a8dc-4cc0-aa15-db3a8b4bec3d",
   "metadata": {},
   "outputs": [],
   "source": [
    "## read parsed csv certficate chains\n",
    "hybrid_fqdns = []\n",
    "hybrid_chains = []\n",
    "\n",
    "for f in hybrid_fl:\n",
    "    tmpdf = pd.read_csv(f)\n",
    "    tmpfqdn = f.split(\"/\")[-1].split(\".csv\")[0]\n",
    "    \n",
    "    chain = Chain()\n",
    "    for idx, item in tmpdf.iterrows():    \n",
    "        ## init certficate data\n",
    "        data = defaultdict(str, {\"Issuer\": item['Issuer'], \n",
    "                                 \"Subject\":item[\"Subject\"]})\n",
    "        chain.append(data)\n",
    "\n",
    "    # add to chain and fqdn list\n",
    "    hybrid_chains.append(chain)\n",
    "    hybrid_fqdns.append(tmpfqdn)"
   ]
  },
  {
   "cell_type": "code",
   "execution_count": 72,
   "id": "defd67e0-8483-4e51-a8a5-afb05d8f7f07",
   "metadata": {
    "tags": []
   },
   "outputs": [],
   "source": [
    "hybrid_df = pd.DataFrame()\n",
    "hybrid_df['fqdn'] = hybrid_fqdns\n",
    "hybrid_df['chain_obj'] = hybrid_chains"
   ]
  },
  {
   "cell_type": "code",
   "execution_count": 73,
   "id": "c919c105-091a-4d4f-9e70-7b5f94375930",
   "metadata": {
    "tags": []
   },
   "outputs": [],
   "source": [
    "## analysis\n",
    "hybrid_df[\"chain_len\"] = hybrid_df[\"chain_obj\"].apply(lambda x: len(x.to_list()))\n",
    "hybrid_df[\"cert_chain_status\"] = hybrid_df[\"chain_obj\"].apply(lambda x: json.dumps(myChainValidator.get_certstatus_in_chain(x)))\n",
    "hybrid_df[\"cert_chain_issuer_pub\"] = hybrid_df[\"cert_chain_status\"].apply(lambda x: get_issuer_status(x))\n",
    "hybrid_df[\"chain_category\"] = hybrid_df[\"cert_chain_issuer_pub\"].apply(lambda x: get_chain_category(x))\n",
    "# mismatches\n",
    "hybrid_df[\"chain_mismatches\"] = hybrid_df[\"chain_obj\"].apply(lambda x: myChainValidator.count_mismatches(x))\n",
    "\n",
    "# subchains\n",
    "hybrid_df[\"subchains_cnt\"] = hybrid_df[\"chain_obj\"].apply(lambda x: myChainValidator.count_subchains(x)[0])\n",
    "hybrid_df[\"subchains_idx\"] = hybrid_df[\"chain_obj\"].apply(lambda x: myChainValidator.count_subchains(x)[1])\n",
    "hybrid_df[\"subchains_totalcert\"] = hybrid_df[\"subchains_idx\"].apply(lambda x: count_certs_in_subchains(x))\n",
    "\n",
    "# chain is valid\n",
    "hybrid_df[\"allcert_matches\"] = (hybrid_df[\"subchains_totalcert\"] == hybrid_df[\"chain_len\"])    \n",
    "\n",
    "# leafs\n",
    "hybrid_df[['PubLeaf_cnt', 'PubLeaf_idx', 'PrivLeaf_cnt', 'PrivLeaf_idx']] = hybrid_df['chain_obj'].apply(myChainValidator.count_leafs).apply(pd.Series)\n",
    "hybrid_df[\"Leaf_total\"] = hybrid_df[\"PubLeaf_cnt\"] + hybrid_df['PrivLeaf_cnt']\n",
    "\n",
    "def update_leafs(pub_leaf_idx, priv_leaf_idx):\n",
    "    leaf_idx = set()\n",
    "    leaf_idx.update(priv_leaf_idx)\n",
    "    leaf_idx.update(pub_leaf_idx)\n",
    "    return leaf_idx\n",
    "\n",
    "hybrid_df[\"Leaf_idx\"] = hybrid_df.apply(lambda x: update_leafs(x['PubLeaf_idx'], x['PrivLeaf_idx']), axis=1)\n",
    "\n",
    "hybrid_df[\"isSelfsigned\"] = hybrid_df['chain_obj'].apply(lambda x: myChainValidator.isOnlySelfSigned(x))\n",
    "hybrid_df[\"isCompleteChain\"] = hybrid_df.apply(lambda x: isCompleteChain(x['subchains_cnt'], x['allcert_matches']), axis=1)\n",
    "\n",
    "hybrid_df[\"leaf_in_subchains\"] = hybrid_df.apply(lambda x: valid_subchain(x['subchains_idx'], x['Leaf_idx']), axis=1)\n",
    "hybrid_df[\"cntCompleteChains\"] = hybrid_df.apply(lambda x: containCompleteChain(x['leaf_in_subchains'], x['subchains_cnt']), axis=1)"
   ]
  },
  {
   "cell_type": "code",
   "execution_count": 74,
   "id": "e14e5090-9d12-4eb5-af3d-26b8a70426bf",
   "metadata": {},
   "outputs": [
    {
     "data": {
      "text/plain": [
       "(270, 21)"
      ]
     },
     "execution_count": 74,
     "metadata": {},
     "output_type": "execute_result"
    }
   ],
   "source": [
    "hybrid_df.shape"
   ]
  },
  {
   "cell_type": "code",
   "execution_count": 75,
   "id": "db29f510-db47-4254-8b58-1b71cc4e1965",
   "metadata": {},
   "outputs": [],
   "source": [
    "def get_chain_category(issuer_pub_l):\n",
    "    if all([i == \"Pub\" for i in issuer_pub_l]):\n",
    "        return \"AllPub\"\n",
    "    elif all([i == \"Priv\" for i in issuer_pub_l]):\n",
    "        return \"AllPriv\"\n",
    "    return \"Hybrid\""
   ]
  },
  {
   "cell_type": "code",
   "execution_count": 76,
   "id": "867084b7-839f-42ac-9a7b-1bdc36d08be1",
   "metadata": {},
   "outputs": [
    {
     "data": {
      "text/plain": [
       "chain_category\n",
       "AllPub     231\n",
       "Hybrid      35\n",
       "AllPriv      4\n",
       "Name: count, dtype: int64"
      ]
     },
     "execution_count": 76,
     "metadata": {},
     "output_type": "execute_result"
    }
   ],
   "source": [
    "## chain categories \n",
    "hybrid_df[\"chain_category\"].value_counts()"
   ]
  },
  {
   "cell_type": "code",
   "execution_count": 77,
   "id": "b440d739-f009-4d0f-9eb4-834387f2dcd6",
   "metadata": {},
   "outputs": [
    {
     "data": {
      "text/plain": [
       "isCompleteChain\n",
       "False    26\n",
       "True      9\n",
       "Name: count, dtype: int64"
      ]
     },
     "execution_count": 77,
     "metadata": {},
     "output_type": "execute_result"
    }
   ],
   "source": [
    "hybrid_df.loc[hybrid_df[\"chain_category\"]==\"Hybrid\"][\"isCompleteChain\"].value_counts()"
   ]
  },
  {
   "cell_type": "code",
   "execution_count": 78,
   "id": "adbe7238-9377-4ef2-903f-94b2156320e7",
   "metadata": {},
   "outputs": [
    {
     "data": {
      "text/plain": [
       "cntCompleteChains\n",
       " 0    14\n",
       "-1     9\n",
       " 1     3\n",
       "Name: count, dtype: int64"
      ]
     },
     "execution_count": 78,
     "metadata": {},
     "output_type": "execute_result"
    }
   ],
   "source": [
    "# 3 contains a complete chain \n",
    "hybrid_df_non_complete = hybrid_df.loc[hybrid_df[\"chain_category\"]==\"Hybrid\"].loc[hybrid_df[\"isCompleteChain\"]==False]\n",
    "hybrid_df_non_complete[\"cntCompleteChains\"].value_counts()"
   ]
  },
  {
   "cell_type": "code",
   "execution_count": 79,
   "id": "d95c4d0e-f1b8-4a3d-a3f0-1496044a9a34",
   "metadata": {},
   "outputs": [
    {
     "data": {
      "text/html": [
       "<div>\n",
       "<style scoped>\n",
       "    .dataframe tbody tr th:only-of-type {\n",
       "        vertical-align: middle;\n",
       "    }\n",
       "\n",
       "    .dataframe tbody tr th {\n",
       "        vertical-align: top;\n",
       "    }\n",
       "\n",
       "    .dataframe thead th {\n",
       "        text-align: right;\n",
       "    }\n",
       "</style>\n",
       "<table border=\"1\" class=\"dataframe\">\n",
       "  <thead>\n",
       "    <tr style=\"text-align: right;\">\n",
       "      <th></th>\n",
       "      <th>fqdn</th>\n",
       "      <th>chain_obj</th>\n",
       "      <th>chain_len</th>\n",
       "      <th>cert_chain_status</th>\n",
       "      <th>cert_chain_issuer_pub</th>\n",
       "      <th>chain_category</th>\n",
       "      <th>chain_mismatches</th>\n",
       "      <th>subchains_cnt</th>\n",
       "      <th>subchains_idx</th>\n",
       "      <th>subchains_totalcert</th>\n",
       "      <th>...</th>\n",
       "      <th>PubLeaf_cnt</th>\n",
       "      <th>PubLeaf_idx</th>\n",
       "      <th>PrivLeaf_cnt</th>\n",
       "      <th>PrivLeaf_idx</th>\n",
       "      <th>Leaf_total</th>\n",
       "      <th>Leaf_idx</th>\n",
       "      <th>isSelfsigned</th>\n",
       "      <th>isCompleteChain</th>\n",
       "      <th>leaf_in_subchains</th>\n",
       "      <th>cntCompleteChains</th>\n",
       "    </tr>\n",
       "  </thead>\n",
       "  <tbody>\n",
       "    <tr>\n",
       "      <th>62</th>\n",
       "      <td>artswarandpeace.univ-paris-diderot.fr</td>\n",
       "      <td>&lt;cert.Chain object at 0x1779a26f0&gt;</td>\n",
       "      <td>9</td>\n",
       "      <td>[{\"isSubjectCNFQDN\": true, \"isPublic\": true, \"...</td>\n",
       "      <td>[Pub, Pub, Pub, Pub, Priv, Pub, Pub, Pub, Pub]</td>\n",
       "      <td>Hybrid</td>\n",
       "      <td>3</td>\n",
       "      <td>3</td>\n",
       "      <td>[{0, 1, 2, 3}, {5, 6}, {8, 7}]</td>\n",
       "      <td>8</td>\n",
       "      <td>...</td>\n",
       "      <td>1</td>\n",
       "      <td>{0}</td>\n",
       "      <td>0</td>\n",
       "      <td>{}</td>\n",
       "      <td>1</td>\n",
       "      <td>{0}</td>\n",
       "      <td>False</td>\n",
       "      <td>False</td>\n",
       "      <td>[[True, False, False, False], [False, False], ...</td>\n",
       "      <td>1</td>\n",
       "    </tr>\n",
       "    <tr>\n",
       "      <th>68</th>\n",
       "      <td>larca.univ-paris-diderot.fr</td>\n",
       "      <td>&lt;cert.Chain object at 0x1779a3200&gt;</td>\n",
       "      <td>9</td>\n",
       "      <td>[{\"isSubjectCNFQDN\": true, \"isPublic\": true, \"...</td>\n",
       "      <td>[Pub, Pub, Pub, Pub, Priv, Pub, Pub, Pub, Pub]</td>\n",
       "      <td>Hybrid</td>\n",
       "      <td>3</td>\n",
       "      <td>3</td>\n",
       "      <td>[{0, 1, 2, 3}, {5, 6}, {8, 7}]</td>\n",
       "      <td>8</td>\n",
       "      <td>...</td>\n",
       "      <td>1</td>\n",
       "      <td>{0}</td>\n",
       "      <td>0</td>\n",
       "      <td>{}</td>\n",
       "      <td>1</td>\n",
       "      <td>{0}</td>\n",
       "      <td>False</td>\n",
       "      <td>False</td>\n",
       "      <td>[[True, False, False, False], [False, False], ...</td>\n",
       "      <td>1</td>\n",
       "    </tr>\n",
       "    <tr>\n",
       "      <th>214</th>\n",
       "      <td>listes.univ-paris-diderot.fr</td>\n",
       "      <td>&lt;cert.Chain object at 0x177a01880&gt;</td>\n",
       "      <td>9</td>\n",
       "      <td>[{\"isSubjectCNFQDN\": true, \"isPublic\": true, \"...</td>\n",
       "      <td>[Pub, Pub, Pub, Pub, Priv, Pub, Pub, Pub, Pub]</td>\n",
       "      <td>Hybrid</td>\n",
       "      <td>3</td>\n",
       "      <td>3</td>\n",
       "      <td>[{0, 1, 2, 3}, {5, 6}, {8, 7}]</td>\n",
       "      <td>8</td>\n",
       "      <td>...</td>\n",
       "      <td>1</td>\n",
       "      <td>{0}</td>\n",
       "      <td>0</td>\n",
       "      <td>{}</td>\n",
       "      <td>1</td>\n",
       "      <td>{0}</td>\n",
       "      <td>False</td>\n",
       "      <td>False</td>\n",
       "      <td>[[True, False, False, False], [False, False], ...</td>\n",
       "      <td>1</td>\n",
       "    </tr>\n",
       "  </tbody>\n",
       "</table>\n",
       "<p>3 rows × 21 columns</p>\n",
       "</div>"
      ],
      "text/plain": [
       "                                      fqdn  \\\n",
       "62   artswarandpeace.univ-paris-diderot.fr   \n",
       "68             larca.univ-paris-diderot.fr   \n",
       "214           listes.univ-paris-diderot.fr   \n",
       "\n",
       "                              chain_obj  chain_len  \\\n",
       "62   <cert.Chain object at 0x1779a26f0>          9   \n",
       "68   <cert.Chain object at 0x1779a3200>          9   \n",
       "214  <cert.Chain object at 0x177a01880>          9   \n",
       "\n",
       "                                     cert_chain_status  \\\n",
       "62   [{\"isSubjectCNFQDN\": true, \"isPublic\": true, \"...   \n",
       "68   [{\"isSubjectCNFQDN\": true, \"isPublic\": true, \"...   \n",
       "214  [{\"isSubjectCNFQDN\": true, \"isPublic\": true, \"...   \n",
       "\n",
       "                              cert_chain_issuer_pub chain_category  \\\n",
       "62   [Pub, Pub, Pub, Pub, Priv, Pub, Pub, Pub, Pub]         Hybrid   \n",
       "68   [Pub, Pub, Pub, Pub, Priv, Pub, Pub, Pub, Pub]         Hybrid   \n",
       "214  [Pub, Pub, Pub, Pub, Priv, Pub, Pub, Pub, Pub]         Hybrid   \n",
       "\n",
       "     chain_mismatches  subchains_cnt                   subchains_idx  \\\n",
       "62                  3              3  [{0, 1, 2, 3}, {5, 6}, {8, 7}]   \n",
       "68                  3              3  [{0, 1, 2, 3}, {5, 6}, {8, 7}]   \n",
       "214                 3              3  [{0, 1, 2, 3}, {5, 6}, {8, 7}]   \n",
       "\n",
       "     subchains_totalcert  ...  PubLeaf_cnt  PubLeaf_idx PrivLeaf_cnt  \\\n",
       "62                     8  ...            1          {0}            0   \n",
       "68                     8  ...            1          {0}            0   \n",
       "214                    8  ...            1          {0}            0   \n",
       "\n",
       "     PrivLeaf_idx Leaf_total  Leaf_idx isSelfsigned  isCompleteChain  \\\n",
       "62             {}          1       {0}        False            False   \n",
       "68             {}          1       {0}        False            False   \n",
       "214            {}          1       {0}        False            False   \n",
       "\n",
       "                                     leaf_in_subchains cntCompleteChains  \n",
       "62   [[True, False, False, False], [False, False], ...                 1  \n",
       "68   [[True, False, False, False], [False, False], ...                 1  \n",
       "214  [[True, False, False, False], [False, False], ...                 1  \n",
       "\n",
       "[3 rows x 21 columns]"
      ]
     },
     "execution_count": 79,
     "metadata": {},
     "output_type": "execute_result"
    }
   ],
   "source": [
    "hybrid_df_non_complete.loc[hybrid_df_non_complete[\"cntCompleteChains\"]==1]"
   ]
  },
  {
   "cell_type": "markdown",
   "id": "6bd12cff-5f2c-44be-bc28-945f1ec9ea6e",
   "metadata": {},
   "source": [
    "## Analyze Non-Pub Chain"
   ]
  },
  {
   "cell_type": "code",
   "execution_count": 81,
   "id": "7850c6d1-ee95-437e-8391-db1117f81df5",
   "metadata": {
    "tags": []
   },
   "outputs": [],
   "source": [
    "# read fqdn\n",
    "fl = glob.glob(os.path.join(nonpub_datadir, \"csv\", \"*/*.csv\"))"
   ]
  },
  {
   "cell_type": "code",
   "execution_count": 82,
   "id": "438ec2da-a8f3-42e4-9e8f-84691f994197",
   "metadata": {},
   "outputs": [
    {
     "data": {
      "text/plain": [
       "12404"
      ]
     },
     "execution_count": 82,
     "metadata": {},
     "output_type": "execute_result"
    }
   ],
   "source": [
    "len(fl)"
   ]
  },
  {
   "cell_type": "code",
   "execution_count": 133,
   "id": "53216c99-5885-4edd-af99-dacee93464f7",
   "metadata": {
    "tags": []
   },
   "outputs": [
    {
     "name": "stdout",
     "output_type": "stream",
     "text": [
      "12404\n"
     ]
    }
   ],
   "source": [
    "cnt = 0 \n",
    "fqdn_l = []\n",
    "chain_l = []\n",
    "for f in fl:\n",
    "    tmpfqdn = f.split(\"/\")[-1][:-4] # rstrip \".csv\"\n",
    "\n",
    "    tmpdf = pd.read_csv(f, delimiter=\"|\")\n",
    "    if tmpdf.shape[0] == 0:\n",
    "        continue\n",
    "    chain = Chain()\n",
    "    for idx, item in tmpdf.iterrows():    \n",
    "        ## init certficate data\n",
    "        issuer = \"\" if type(item['Issuer']) != str else item['Issuer']\n",
    "        subject = \"\" if type(item['Subject']) != str else item[\"Subject\"]\n",
    "        \n",
    "        data = defaultdict(str, {\"Issuer\": issuer, \n",
    "                                 \"Subject\":subject})\n",
    "        chain.append(data)\n",
    "    fqdn_l.append(tmpfqdn)\n",
    "    chain_l.append(chain)\n",
    "    cnt += 1\n",
    "print(cnt)"
   ]
  },
  {
   "cell_type": "code",
   "execution_count": 134,
   "id": "5690433c-95c8-422f-80ab-6fddc1b26c85",
   "metadata": {
    "tags": []
   },
   "outputs": [],
   "source": [
    "privdf = pd.DataFrame()\n",
    "privdf['fqdn'] = fqdn_l\n",
    "privdf['chain_obj'] = chain_l"
   ]
  },
  {
   "cell_type": "code",
   "execution_count": 135,
   "id": "c06a5666-55da-4148-8edc-e84c904ca312",
   "metadata": {},
   "outputs": [
    {
     "data": {
      "text/plain": [
       "(12404, 2)"
      ]
     },
     "execution_count": 135,
     "metadata": {},
     "output_type": "execute_result"
    }
   ],
   "source": [
    "privdf.shape"
   ]
  },
  {
   "cell_type": "code",
   "execution_count": 138,
   "id": "37bfeafe-60a0-436d-87e5-5941d41b5f2c",
   "metadata": {
    "tags": []
   },
   "outputs": [],
   "source": [
    "privdf[\"chain_len\"] = privdf[\"chain_obj\"].apply(lambda x: len(x.to_list()))\n",
    "privdf[\"cert_chain_status\"] = privdf[\"chain_obj\"].apply(lambda x: json.dumps(myChainValidator.get_certstatus_in_chain(x)))\n",
    "privdf[\"cert_chain_issuer_pub\"] = privdf[\"cert_chain_status\"].apply(lambda x:get_issuer_status(x))\n",
    "privdf[\"chain_category\"] = privdf[\"cert_chain_issuer_pub\"].apply(lambda x: get_chain_category(x))\n",
    "\n",
    "# mismatches\n",
    "privdf[\"chain_mismatches\"] = privdf[\"chain_obj\"].apply(lambda x: myChainValidator.count_mismatches(x))\n",
    "\n",
    "# subchains\n",
    "privdf[\"subchains_cnt\"] = privdf[\"chain_obj\"].apply(lambda x: myChainValidator.count_subchains(x)[0])\n",
    "privdf[\"subchains_idx\"] = privdf[\"chain_obj\"].apply(lambda x: myChainValidator.count_subchains(x)[1])\n",
    "privdf[\"subchains_totalcert\"] = privdf[\"subchains_idx\"].apply(lambda x: count_certs_in_subchains(x))\n",
    "\n",
    "# chain is valid\n",
    "privdf[\"allcert_matches\"] = (privdf[\"subchains_totalcert\"] == privdf[\"chain_len\"])    \n",
    "\n",
    "# leafs\n",
    "\n",
    "privdf[['PubLeaf_cnt', 'PubLeaf_idx', 'PrivLeaf_cnt', 'PrivLeaf_idx']] = privdf['chain_obj'].apply(myChainValidator.count_leafs).apply(pd.Series)\n",
    "privdf[\"Leaf_total\"] = privdf[\"PubLeaf_cnt\"] + privdf['PrivLeaf_cnt']\n",
    "\n",
    "\n",
    "privdf[\"Leaf_idx\"] = privdf.apply(lambda x:update_leafs(x['PubLeaf_idx'], x['PrivLeaf_idx']), axis=1)\n",
    "\n",
    "privdf[\"isOnlySelfSigned\"] = privdf['chain_obj'].apply(lambda x: myChainValidator.isOnlySelfSigned(x))\n",
    "privdf[\"isCompleteChain\"] = privdf.apply(lambda x: isCompleteChain(x['subchains_cnt'], x['allcert_matches']), axis=1)\n",
    "\n",
    "privdf[\"leaf_in_subchains\"] = privdf.apply(lambda x: valid_subchain(x['subchains_idx'], x['Leaf_idx']), axis=1)\n",
    "privdf[\"cntCompleteChains\"] = privdf.apply(lambda x: containCompleteChain(x['leaf_in_subchains'], x['subchains_cnt']), axis=1)\n"
   ]
  },
  {
   "cell_type": "code",
   "execution_count": 139,
   "id": "3fd9a854-8408-42cd-b2f6-36b3fff6195e",
   "metadata": {},
   "outputs": [
    {
     "data": {
      "text/plain": [
       "chain_category\n",
       "AllPriv    12404\n",
       "Name: count, dtype: int64"
      ]
     },
     "execution_count": 139,
     "metadata": {},
     "output_type": "execute_result"
    }
   ],
   "source": [
    "## chain categories \n",
    "privdf[\"chain_category\"].value_counts()"
   ]
  },
  {
   "cell_type": "code",
   "execution_count": 140,
   "id": "fca3766e-11e5-44a0-9805-576912f18354",
   "metadata": {},
   "outputs": [
    {
     "data": {
      "text/plain": [
       "<Axes: >"
      ]
     },
     "execution_count": 140,
     "metadata": {},
     "output_type": "execute_result"
    },
    {
     "data": {
      "image/png": "[encoded data removed]",
      "text/plain": [
       "<Figure size 640x480 with 1 Axes>"
      ]
     },
     "metadata": {},
     "output_type": "display_data"
    }
   ],
   "source": [
    "privdf[\"chain_len\"].hist()"
   ]
  },
  {
   "cell_type": "code",
   "execution_count": 142,
   "id": "c3fe0147-1605-4217-b149-2112bfdd268f",
   "metadata": {},
   "outputs": [
    {
     "data": {
      "text/plain": [
       "(9849, 21)"
      ]
     },
     "execution_count": 142,
     "metadata": {},
     "output_type": "execute_result"
    }
   ],
   "source": [
    "privdf.loc[privdf[\"chain_len\"]>1].shape"
   ]
  },
  {
   "cell_type": "code",
   "execution_count": 77,
   "id": "4e6bd9fa-aae1-4e44-be7f-c80f8733477b",
   "metadata": {},
   "outputs": [
    {
     "data": {
      "text/plain": [
       "isCompleteChain\n",
       "False    26\n",
       "True      9\n",
       "Name: count, dtype: int64"
      ]
     },
     "execution_count": 77,
     "metadata": {},
     "output_type": "execute_result"
    }
   ],
   "source": [
    "privdf.loc[privdf[\"chain_category\"]==\"Hybrid\"][\"isCompleteChain\"].value_counts()"
   ]
  }
 ],
 "metadata": {
  "kernelspec": {
   "display_name": "Python 3 (ipykernel)",
   "language": "python",
   "name": "python3"
  },
  "language_info": {
   "codemirror_mode": {
    "name": "ipython",
    "version": 3
   },
   "file_extension": ".py",
   "mimetype": "text/x-python",
   "name": "python",
   "nbconvert_exporter": "python",
   "pygments_lexer": "ipython3",
   "version": "3.12.5"
  }
 },
 "nbformat": 4,
 "nbformat_minor": 5
}
